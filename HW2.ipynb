{
 "cells": [
  {
   "cell_type": "code",
   "execution_count": null,
   "metadata": {},
   "outputs": [],
   "source": [
    "import requests\n",
    "from bs4 import BeautifulSoup\n",
    "import pandas as pd\n",
    "import matplotlib.pyplot as plt\n",
    "import numpy\n",
    "from collections import OrderedDict"
   ]
  },
  {
   "cell_type": "code",
   "execution_count": null,
   "metadata": {},
   "outputs": [],
   "source": [
    "typehref = []\n",
    "def find_href():\n",
    "    for types in range(21):\n",
    "        for pages in range(99):\n",
    "            url= \"https://movies.yahoo.com.tw/moviegenre_result.html?genre_id=\"+str(types+1)+\"&page=\"+str(pages+1)\n",
    "            r = requests.get(url)\n",
    "            soup=(BeautifulSoup(r.text))\n",
    "            for d in soup.find_all('div', class_=\"release_movie_name\"):\n",
    "                typehref.append(d.find('a', class_='gabtn')['href'])\n",
    "    \n",
    "    typehrefdel=list(OrderedDict.fromkeys(typehref))\n",
    "    return(typehrefdel)"
   ]
  },
  {
   "cell_type": "code",
   "execution_count": null,
   "metadata": {},
   "outputs": [],
   "source": [
    "def art(href):\n",
    "    exeution=[]\n",
    "    for a in href:\n",
    "        url=a\n",
    "        r = requests.get(url)\n",
    "        item = BeautifulSoup(r.text)\n",
    "\n",
    "        name=item.find('h1').text.strip()\n",
    "        english=item.find('h3').text.strip()\n",
    "        date=item.find('div',class_= 'movie_intro_info_r').find('span').text.split('上映日期：')[1]\n",
    "\n",
    "        types=''\n",
    "        for c in item.find_all('div', class_=\"level_name_box\"):\n",
    "            for d in c.find_all('div', class_=\"level_name\"):\n",
    "                types+=d.find('a',class_='gabtn').text.strip()\n",
    "\n",
    "        article=item.find('div',class_='gray_infobox_inner').find('span').text.strip()\n",
    "        exe=(name=,english,date,types,article)\n",
    "        exeution.append(exe)\n",
    "    return exeution"
   ]
  },
  {
   "cell_type": "code",
   "execution_count": null,
   "metadata": {},
   "outputs": [],
   "source": []
  },
  {
   "cell_type": "code",
   "execution_count": null,
   "metadata": {},
   "outputs": [],
   "source": []
  },
  {
   "cell_type": "code",
   "execution_count": null,
   "metadata": {},
   "outputs": [],
   "source": []
  }
 ],
 "metadata": {
  "interpreter": {
   "hash": "aee8b7b246df8f9039afb4144a1f6fd8d2ca17a180786b69acc140d282b71a49"
  },
  "kernelspec": {
   "display_name": "Python 3 (ipykernel)",
   "language": "python",
   "name": "python3"
  },
  "language_info": {
   "codemirror_mode": {
    "name": "ipython",
    "version": 3
   },
   "file_extension": ".py",
   "mimetype": "text/x-python",
   "name": "python",
   "nbconvert_exporter": "python",
   "pygments_lexer": "ipython3",
   "version": "3.9.6"
  }
 },
 "nbformat": 4,
 "nbformat_minor": 2
}
