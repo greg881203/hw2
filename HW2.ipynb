{
 "cells": [
  {
   "cell_type": "code",
   "execution_count": 3,
   "id": "3f50b7b5",
   "metadata": {},
   "outputs": [
    {
     "name": "stdout",
     "output_type": "stream",
     "text": [
      "===== 所有電影資訊 =====\n",
      "玩命關頭9(Fast & Furious 9) 上映日：2021-08-11 \n",
      "脫稿玩家(Original title: Free Guy) 上映日：2021-08-12 \n",
      "被偷走的童年(When Hitler Stole Pink Rabbit) 上映日：2021-08-13 \n",
      "感動她77次(77 Heartwarmings) 上映日：2021-08-13 \n",
      "汪汪隊立大功電影版(PAW Patrol: The Movie) 上映日：2021-08-13 \n",
      "第六感追緝令(Basic Instinct) 上映日：2021-08-13 \n",
      "未來之書(The Book of Vision) 上映日：2021-08-13 \n"
     ]
    }
   ],
   "source": [
    "import requests\n",
    "from bs4 import BeautifulSoup\n",
    "\n",
    "url = 'https://movies.yahoo.com.tw/movie_thisweek.html'\n",
    "r = requests.get(url)\n",
    "soup = BeautifulSoup(r.text)\n",
    "\n",
    "\n",
    "print('===== 所有電影資訊 =====')\n",
    "items=soup.find_all('div', class_=\"release_info\")\n",
    "for item in items:\n",
    "    name=item.find('div',class_=\"release_movie_name\").a.text.strip()\n",
    "    english_name=item.find(\"div\",class_=\"en\").text.strip()\n",
    "    time=item.find(\"div\",class_=\"release_movie_time\").text.split('：')[-1].strip()\n",
    "    print('{}({}) 上映日：{} '.format(name, english_name, time))\n",
    "    \n",
    "\n",
    "\n",
    "    \n",
    "\n",
    "\n",
    "    \n",
    "\n",
    "    "
   ]
  },
  {
   "cell_type": "code",
   "execution_count": null,
   "id": "26ce792d",
   "metadata": {},
   "outputs": [],
   "source": []
  },
  {
   "cell_type": "code",
   "execution_count": null,
   "id": "7cabd332",
   "metadata": {},
   "outputs": [],
   "source": []
  }
 ],
 "metadata": {
  "kernelspec": {
   "display_name": "Python 3 (ipykernel)",
   "language": "python",
   "name": "python3"
  },
  "language_info": {
   "codemirror_mode": {
    "name": "ipython",
    "version": 3
   },
   "file_extension": ".py",
   "mimetype": "text/x-python",
   "name": "python",
   "nbconvert_exporter": "python",
   "pygments_lexer": "ipython3",
   "version": "3.9.6"
  }
 },
 "nbformat": 4,
 "nbformat_minor": 5
}
